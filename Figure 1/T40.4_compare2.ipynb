{
 "cells": [
  {
   "cell_type": "code",
   "execution_count": 1,
   "metadata": {},
   "outputs": [],
   "source": [
    "# import the pandas module\n",
    "# https://pandas.pydata.org/docs/user_guide/index.html\n",
    "\n",
    "import pandas as pd\n",
    "\n",
    "# numpy is a standard module for simple numerical calculations\n",
    "import numpy as np\n",
    "import scipy.stats\n",
    "import matplotlib.pyplot as plt\n",
    "import statsmodels.api as sm"
   ]
  },
  {
   "cell_type": "code",
   "execution_count": 2,
   "metadata": {},
   "outputs": [],
   "source": [
    "data_frame0 = pd.read_csv(\"T40.4_nationwide.txt\",delimiter=\"\\t\")"
   ]
  },
  {
   "cell_type": "markdown",
   "metadata": {},
   "source": [
    "We replace \"Unreliable\" by NaN."
   ]
  },
  {
   "cell_type": "code",
   "execution_count": 3,
   "metadata": {},
   "outputs": [],
   "source": [
    "data_frame0=data_frame0.replace(\"Unreliable\",np.nan)"
   ]
  },
  {
   "cell_type": "code",
   "execution_count": 4,
   "metadata": {},
   "outputs": [],
   "source": [
    "data_frame = pd.read_csv(\"T40.4_Race.txt\",delimiter=\"\\t\")"
   ]
  },
  {
   "cell_type": "code",
   "execution_count": 5,
   "metadata": {},
   "outputs": [],
   "source": [
    "data_frame=data_frame.replace(\"Unreliable\",np.nan)"
   ]
  },
  {
   "cell_type": "code",
   "execution_count": 6,
   "metadata": {},
   "outputs": [
    {
     "name": "stdout",
     "output_type": "stream",
     "text": [
      "21    9.1\n",
      "Name: Crude Rate, dtype: float64\n"
     ]
    }
   ],
   "source": [
    "CF2 = data_frame0[(data_frame0[\"Gender\"] == \"Female\") & \n",
    "                (data_frame0[\"Year\"] != 2020.0)][[\"Year\", \"Crude Rate\"]].astype(float) \n",
    "CM2 = data_frame0[(data_frame0[\"Gender\"] == \"Male\") & \n",
    "                (data_frame0[\"Year\"] != 2020.0)][[\"Year\", \"Crude Rate\"]].astype(float)\n",
    "CF = data_frame0[(data_frame0[\"Gender\"] == \"Female\")] [[\"Year\", \"Crude Rate\"]].astype(float) \n",
    "CM = data_frame0[(data_frame0[\"Gender\"] == \"Male\")][[\"Year\", \"Crude Rate\"]].astype(float)\n",
    "CF2_covid = data_frame0[(data_frame0[\"Gender\"] == \"Female\") & \n",
    "                (data_frame0[\"Year\"] == 2020.0)][[\"Year\", \"Crude Rate\"]].astype(float)\n",
    "CM2_covid = data_frame0[(data_frame0[\"Gender\"] == \"Male\") & \n",
    "                (data_frame0[\"Year\"] == 2020.0)][[\"Year\", \"Crude Rate\"]].astype(float)"
   ]
  },
  {
   "cell_type": "code",
   "execution_count": 9,
   "metadata": {},
   "outputs": [],
   "source": [
    "CF2b = data_frame[(data_frame[\"Gender\"] == \"Female\") & (data_frame[\"Race\"] == \"Black or African American\")& \n",
    "           (data_frame[\"Notes\"] != \"Total\")&\n",
    "                 (data_frame[\"Year\"] != 2020.0)][[\"Year\", \"Crude Rate\"]].astype(float) \n",
    "CM2b = data_frame[(data_frame[\"Gender\"] == \"Male\") & (data_frame[\"Race\"] == \"Black or African American\")& \n",
    "           (data_frame[\"Notes\"] != \"Total\")&\n",
    "                (data_frame[\"Year\"] != 2020.0)][[\"Year\", \"Crude Rate\"]].astype(float)\n",
    "CFb = data_frame[(data_frame[\"Gender\"] == \"Female\") & (data_frame[\"Race\"] == \"Black or African American\")& \n",
    "           (data_frame[\"Notes\"] != \"Total\")][[\"Year\", \"Crude Rate\"]].astype(float)\n",
    "CMb = data_frame[(data_frame[\"Gender\"] == \"Male\") & (data_frame[\"Race\"] == \"Black or African American\")& \n",
    "           (data_frame[\"Notes\"] != \"Total\")][[\"Year\", \"Crude Rate\"]].astype(float)\n",
    "CF2b_covid = data_frame[(data_frame[\"Gender\"] == \"Female\") & (data_frame[\"Race\"] == \"Black or African American\")& \n",
    "           (data_frame[\"Year\"] == 2020.0)][[\"Year\", \"Crude Rate\"]].astype(float)\n",
    "CM2b_covid = data_frame[(data_frame[\"Gender\"] == \"Male\") & (data_frame[\"Race\"] == \"Black or African American\")& \n",
    "                (data_frame[\"Year\"] == 2020.0)][[\"Year\", \"Crude Rate\"]].astype(float)\n",
    "\n",
    "\n",
    "CF2w = data_frame[(data_frame[\"Gender\"] == \"Female\") & (data_frame[\"Race\"] == \"White\")& \n",
    "           (data_frame[\"Notes\"] != \"Total\")&\n",
    "                 (data_frame[\"Year\"] != 2020.0)][[\"Year\", \"Crude Rate\"]].astype(float) \n",
    "CM2w = data_frame[(data_frame[\"Gender\"] == \"Male\") & (data_frame[\"Race\"] == \"White\")& \n",
    "           (data_frame[\"Notes\"] != \"Total\")&\n",
    "                (data_frame[\"Year\"] != 2020.0)][[\"Year\", \"Crude Rate\"]].astype(float)\n",
    "CFw = data_frame[(data_frame[\"Gender\"] == \"Female\") & (data_frame[\"Race\"] == \"White\")& \n",
    "           (data_frame[\"Notes\"] != \"Total\")][[\"Year\", \"Crude Rate\"]].astype(float)\n",
    "CMw = data_frame[(data_frame[\"Gender\"] == \"Male\") & (data_frame[\"Race\"] == \"White\")& \n",
    "           (data_frame[\"Notes\"] != \"Total\")][[\"Year\", \"Crude Rate\"]].astype(float)\n",
    "CF2w_covid = data_frame[(data_frame[\"Gender\"] == \"Female\") & (data_frame[\"Race\"] == \"White\")& \n",
    "           (data_frame[\"Year\"] == 2020.0)][[\"Year\", \"Crude Rate\"]].astype(float)\n",
    "CM2w_covid = data_frame[(data_frame[\"Gender\"] == \"Male\") & (data_frame[\"Race\"] == \"White\")& \n",
    "                (data_frame[\"Year\"] == 2020.0)][[\"Year\", \"Crude Rate\"]].astype(float)\n",
    "\n",
    "\n",
    "CF2a = data_frame[(data_frame[\"Gender\"] == \"Female\") & (data_frame[\"Race\"] == \"Asian or Pacific Islander\")& \n",
    "           (data_frame[\"Notes\"] != \"Total\") &\n",
    "                 (data_frame[\"Year\"] != 2020.0)][[\"Year\", \"Crude Rate\"]].astype(float) \n",
    "CM2a = data_frame[(data_frame[\"Gender\"] == \"Male\") & (data_frame[\"Race\"] == \"Asian or Pacific Islander\")& \n",
    "           (data_frame[\"Notes\"] != \"Total\") &\n",
    "                (data_frame[\"Year\"] != 2020.0)][[\"Year\", \"Crude Rate\"]].astype(float)\n",
    "CFa = data_frame[(data_frame[\"Gender\"] == \"Female\") & (data_frame[\"Race\"] == \"Asian or Pacific Islander\")& \n",
    "           (data_frame[\"Notes\"] != \"Total\")][[\"Year\", \"Crude Rate\"]].astype(float)\n",
    "CMa = data_frame[(data_frame[\"Gender\"] == \"Male\") & (data_frame[\"Race\"] == \"Asian or Pacific Islander\")& \n",
    "           (data_frame[\"Notes\"] != \"Total\") & (data_frame[\"Crude Rate\"] != \"NaN\")][[\"Year\", \"Crude Rate\"]].astype(float)\n",
    "CF2a_covid = data_frame[(data_frame[\"Gender\"] == \"Female\") & (data_frame[\"Race\"] == \"Asian or Pacific Islander\")& \n",
    "           (data_frame[\"Year\"] == 2020.0)][[\"Year\", \"Crude Rate\"]].astype(float)\n",
    "CM2a_covid = data_frame[(data_frame[\"Gender\"] == \"Male\") & (data_frame[\"Race\"] == \"Asian or Pacific Islander\")& \n",
    "                (data_frame[\"Year\"] == 2020.0)][[\"Year\", \"Crude Rate\"]].astype(float)\n",
    "\n",
    "CFa  = CFa.dropna()\n",
    "CF2a= CF2a.dropna()\n",
    "CMa  = CMa.dropna()\n",
    "CM2a= CM2a.dropna()"
   ]
  },
  {
   "cell_type": "code",
   "execution_count": 8,
   "metadata": {},
   "outputs": [
    {
     "data": {
      "image/png": "[encoded data removed]",
      "text/plain": [
       "<Figure size 432x288 with 1 Axes>"
      ]
     },
     "metadata": {
      "needs_background": "light"
     },
     "output_type": "display_data"
    }
   ],
   "source": [
    "plt.figure()\n",
    "xr=CM2[\"Year\"]\n",
    "yr=CM2[\"Crude Rate\"].div((CF2[\"Crude Rate\"].values))\n",
    "plt.plot(xr, yr, color=\"red\")\n",
    "plt.scatter(xr, yr, color='red')\n",
    "plt.scatter(2020.0, 25.4/(9.1), color='red')\n",
    "plt.legend([\"CR Ratio\"])\n",
    "\n",
    "xrw=CM2w[\"Year\"]\n",
    "yrw=CM2w[\"Crude Rate\"].div(CF2w[\"Crude Rate\"].values)\n",
    "plt.plot(xrw, yrw, color=\"orange\")\n",
    "plt.scatter(xrw, yrw, color=\"orange\")\n",
    "plt.scatter(2020.0, 25.4/(9.6), color=\"orange\")\n",
    "\n",
    "xrb=CM2b[\"Year\"]\n",
    "yrb=CM2b[\"Crude Rate\"].div(CF2b[\"Crude Rate\"].values)\n",
    "plt.plot(xrb, yrb, color=\"black\")\n",
    "plt.scatter(xrb, yrb, color=\"black\")\n",
    "plt.scatter(2020.0, 35.4/(11.2), color=\"black\")\n",
    "\n",
    "above_2016M = CM2a[CM2a[\"Year\"] >= 2016]\n",
    "above_2016F = CF2a[CF2a[\"Year\"] >= 2016]\n",
    "xr2a=above_2016M[\"Year\"]\n",
    "yr2a=above_2016M[\"Crude Rate\"].div(above_2016F[\"Crude Rate\"].values)\n",
    "xra=CMa[CMa[\"Year\"] >= 2016][\"Year\"]\n",
    "plt.plot(xr2a, yr2a, color=\"tab:green\")\n",
    "plt.scatter(xr2a, yr2a, color='tab:green')\n",
    "plt.scatter(2020.0, 4.5/(1.0), color=\"tab:green\")\n",
    "plt.suptitle('male-to-female ratio', fontsize=20)\n",
    "\n",
    "plt.legend([\"Nationwide\", \"White\", \"Black\", \"Asian\"], frameon=False, fontsize=18, loc = (0.025,0.47))\n",
    "plt.yticks(np.arange(1.0, 5.1, 1.0))\n",
    "plt.savefig('AttemptT40.4_MaleRaces.svg')\n",
    "plt.yticks(fontsize=12, rotation=0)\n",
    "plt.xticks(fontsize=12, rotation=0)\n",
    "plt.xlabel(\"year\", fontsize=14)\n",
    "plt.ylabel(\"ratio\", fontsize=14)\n",
    "\n",
    "plt.savefig('T40.4_RatioRaces_2.svg')\n"
   ]
  }
 ],
 "metadata": {
  "kernelspec": {
   "display_name": "Python 3",
   "language": "python",
   "name": "python3"
  },
  "language_info": {
   "codemirror_mode": {
    "name": "ipython",
    "version": 3
   },
   "file_extension": ".py",
   "mimetype": "text/x-python",
   "name": "python",
   "nbconvert_exporter": "python",
   "pygments_lexer": "ipython3",
   "version": "3.8.5"
  }
 },
 "nbformat": 4,
 "nbformat_minor": 5
}
