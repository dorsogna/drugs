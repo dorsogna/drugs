{
 "cells": [
  {
   "cell_type": "code",
   "execution_count": 1,
   "metadata": {},
   "outputs": [],
   "source": [
    "# import the pandas module\n",
    "# https://pandas.pydata.org/docs/user_guide/index.html\n",
    "\n",
    "import pandas as pd\n",
    "\n",
    "# numpy is a standard module for simple numerical calculations\n",
    "import numpy as np\n",
    "import scipy.stats\n",
    "import matplotlib.pyplot as plt"
   ]
  },
  {
   "cell_type": "code",
   "execution_count": 2,
   "metadata": {},
   "outputs": [],
   "source": [
    "data_frame = pd.read_csv(\"T40.1_nationwide.txt\",delimiter=\"\\t\")"
   ]
  },
  {
   "cell_type": "markdown",
   "metadata": {},
   "source": [
    "\n",
    "We replace \"Unreliable\" by NaN."
   ]
  },
  {
   "cell_type": "code",
   "execution_count": 3,
   "metadata": {},
   "outputs": [],
   "source": [
    "data_frame=data_frame.replace(\"Unreliable\",np.nan)"
   ]
  },
  {
   "cell_type": "code",
   "execution_count": 4,
   "metadata": {},
   "outputs": [
    {
     "data": {
      "text/html": [
       "<div>\n",
       "<style scoped>\n",
       "    .dataframe tbody tr th:only-of-type {\n",
       "        vertical-align: middle;\n",
       "    }\n",
       "\n",
       "    .dataframe tbody tr th {\n",
       "        vertical-align: top;\n",
       "    }\n",
       "\n",
       "    .dataframe thead th {\n",
       "        text-align: right;\n",
       "    }\n",
       "</style>\n",
       "<table border=\"1\" class=\"dataframe\">\n",
       "  <thead>\n",
       "    <tr style=\"text-align: right;\">\n",
       "      <th></th>\n",
       "      <th>Notes</th>\n",
       "      <th>Year</th>\n",
       "      <th>Year Code</th>\n",
       "      <th>Gender</th>\n",
       "      <th>Gender Code</th>\n",
       "      <th>Deaths</th>\n",
       "      <th>Population</th>\n",
       "      <th>Crude Rate</th>\n",
       "      <th>Unnamed: 8</th>\n",
       "    </tr>\n",
       "  </thead>\n",
       "  <tbody>\n",
       "    <tr>\n",
       "      <th>0</th>\n",
       "      <td>NaN</td>\n",
       "      <td>2013.0</td>\n",
       "      <td>2013.0</td>\n",
       "      <td>Female</td>\n",
       "      <td>F</td>\n",
       "      <td>1733.0</td>\n",
       "      <td>160477237.0</td>\n",
       "      <td>1.1</td>\n",
       "      <td>NaN</td>\n",
       "    </tr>\n",
       "    <tr>\n",
       "      <th>3</th>\n",
       "      <td>NaN</td>\n",
       "      <td>2014.0</td>\n",
       "      <td>2014.0</td>\n",
       "      <td>Female</td>\n",
       "      <td>F</td>\n",
       "      <td>2414.0</td>\n",
       "      <td>161920569.0</td>\n",
       "      <td>1.5</td>\n",
       "      <td>NaN</td>\n",
       "    </tr>\n",
       "    <tr>\n",
       "      <th>6</th>\n",
       "      <td>NaN</td>\n",
       "      <td>2015.0</td>\n",
       "      <td>2015.0</td>\n",
       "      <td>Female</td>\n",
       "      <td>F</td>\n",
       "      <td>3108.0</td>\n",
       "      <td>163189523.0</td>\n",
       "      <td>1.9</td>\n",
       "      <td>NaN</td>\n",
       "    </tr>\n",
       "    <tr>\n",
       "      <th>9</th>\n",
       "      <td>NaN</td>\n",
       "      <td>2016.0</td>\n",
       "      <td>2016.0</td>\n",
       "      <td>Female</td>\n",
       "      <td>F</td>\n",
       "      <td>3717.0</td>\n",
       "      <td>164048590.0</td>\n",
       "      <td>2.3</td>\n",
       "      <td>NaN</td>\n",
       "    </tr>\n",
       "    <tr>\n",
       "      <th>12</th>\n",
       "      <td>NaN</td>\n",
       "      <td>2017.0</td>\n",
       "      <td>2017.0</td>\n",
       "      <td>Female</td>\n",
       "      <td>F</td>\n",
       "      <td>3886.0</td>\n",
       "      <td>165311059.0</td>\n",
       "      <td>2.4</td>\n",
       "      <td>NaN</td>\n",
       "    </tr>\n",
       "    <tr>\n",
       "      <th>15</th>\n",
       "      <td>NaN</td>\n",
       "      <td>2018.0</td>\n",
       "      <td>2018.0</td>\n",
       "      <td>Female</td>\n",
       "      <td>F</td>\n",
       "      <td>3705.0</td>\n",
       "      <td>166038755.0</td>\n",
       "      <td>2.2</td>\n",
       "      <td>-8.333333</td>\n",
       "    </tr>\n",
       "    <tr>\n",
       "      <th>18</th>\n",
       "      <td>NaN</td>\n",
       "      <td>2019.0</td>\n",
       "      <td>2019.0</td>\n",
       "      <td>Female</td>\n",
       "      <td>F</td>\n",
       "      <td>3520.0</td>\n",
       "      <td>166582199.0</td>\n",
       "      <td>2.1</td>\n",
       "      <td>-4.545455</td>\n",
       "    </tr>\n",
       "    <tr>\n",
       "      <th>21</th>\n",
       "      <td>NaN</td>\n",
       "      <td>2020.0</td>\n",
       "      <td>2020.0</td>\n",
       "      <td>Female</td>\n",
       "      <td>F</td>\n",
       "      <td>3284.0</td>\n",
       "      <td>167227921.0</td>\n",
       "      <td>2.0</td>\n",
       "      <td>-4.761905</td>\n",
       "    </tr>\n",
       "  </tbody>\n",
       "</table>\n",
       "</div>"
      ],
      "text/plain": [
       "   Notes    Year  Year Code  Gender Gender Code  Deaths   Population  \\\n",
       "0    NaN  2013.0     2013.0  Female           F  1733.0  160477237.0   \n",
       "3    NaN  2014.0     2014.0  Female           F  2414.0  161920569.0   \n",
       "6    NaN  2015.0     2015.0  Female           F  3108.0  163189523.0   \n",
       "9    NaN  2016.0     2016.0  Female           F  3717.0  164048590.0   \n",
       "12   NaN  2017.0     2017.0  Female           F  3886.0  165311059.0   \n",
       "15   NaN  2018.0     2018.0  Female           F  3705.0  166038755.0   \n",
       "18   NaN  2019.0     2019.0  Female           F  3520.0  166582199.0   \n",
       "21   NaN  2020.0     2020.0  Female           F  3284.0  167227921.0   \n",
       "\n",
       "    Crude Rate  Unnamed: 8  \n",
       "0          1.1         NaN  \n",
       "3          1.5         NaN  \n",
       "6          1.9         NaN  \n",
       "9          2.3         NaN  \n",
       "12         2.4         NaN  \n",
       "15         2.2   -8.333333  \n",
       "18         2.1   -4.545455  \n",
       "21         2.0   -4.761905  "
      ]
     },
     "execution_count": 4,
     "metadata": {},
     "output_type": "execute_result"
    }
   ],
   "source": [
    "data_frame[data_frame[\"Gender\"] == \"Female\"]"
   ]
  },
  {
   "cell_type": "code",
   "execution_count": 5,
   "metadata": {},
   "outputs": [],
   "source": [
    "CF2 = data_frame[(data_frame[\"Gender\"] == \"Female\") & \n",
    "                (data_frame[\"Year\"] != 2020.0)][[\"Year\", \"Crude Rate\"]].astype(float) \n",
    "CM2 = data_frame[(data_frame[\"Gender\"] == \"Male\") & \n",
    "                (data_frame[\"Year\"] != 2020.0)][[\"Year\", \"Crude Rate\"]].astype(float)\n",
    "CF = data_frame[(data_frame[\"Gender\"] == \"Female\")] [[\"Year\", \"Crude Rate\"]].astype(float) \n",
    "CM = data_frame[(data_frame[\"Gender\"] == \"Male\")][[\"Year\", \"Crude Rate\"]].astype(float)\n",
    "CF2_covid = data_frame[(data_frame[\"Gender\"] == \"Female\") & \n",
    "                (data_frame[\"Year\"] == 2020.0)][[\"Year\", \"Crude Rate\"]].astype(float)\n",
    "CM2_covid = data_frame[(data_frame[\"Gender\"] == \"Male\") & \n",
    "                (data_frame[\"Year\"] == 2020.0)][[\"Year\", \"Crude Rate\"]].astype(float)"
   ]
  },
  {
   "cell_type": "code",
   "execution_count": 11,
   "metadata": {},
   "outputs": [],
   "source": [
    "x1=CF2[\"Year\"]\n",
    "y1=CF2[\"Crude Rate\"]\n",
    "x1c=CF[\"Year\"]\n",
    "\n",
    "x2=CM2[\"Year\"]\n",
    "y2=CM2[\"Crude Rate\"]\n",
    "x2c=CM[\"Year\"]"
   ]
  },
  {
   "cell_type": "code",
   "execution_count": 12,
   "metadata": {},
   "outputs": [],
   "source": [
    "xr=CM2[\"Year\"]\n",
    "yr=CM2[\"Crude Rate\"].div(CF2[\"Crude Rate\"].values)"
   ]
  },
  {
   "cell_type": "code",
   "execution_count": 15,
   "metadata": {},
   "outputs": [],
   "source": [
    "coeffF = np.polyfit(x1, y1, 2)\n",
    "yfitF = np.polyval(coeffF,x1)\n",
    "resF = np.sum((y1  - yfitF)**2)\n",
    "coeffM = np.polyfit(x2, y2, 2)\n",
    "yfitM = np.polyval(coeffM,x2)\n",
    "resM = np.sum((y2  - yfitM)**2)\n",
    "\n",
    "#stdF = np.sqrt(resF/5)\n",
    "#stdM = np.sqrt(resM/5)\n",
    "\n",
    "stdF = np.sqrt(resF/(len(y1)-3))\n",
    "stdM = np.sqrt(resM/(len(y2)-3))\n",
    "\n",
    "gdf = pd.DataFrame({\"value\": [2013, 2013.5, 2014, 2014.5, 2015, 2015.5, 2016, 2016.5, 2017, \n",
    "                              2017.5, 2018, 2018.5, 2019, 2019.5, 2020]})"
   ]
  },
  {
   "cell_type": "code",
   "execution_count": 16,
   "metadata": {},
   "outputs": [
    {
     "name": "stdout",
     "output_type": "stream",
     "text": [
      "percent off female =  21    13.821138\n",
      "Name: Crude Rate, dtype: float64\n",
      "percent off male =  22    9.768638\n",
      "Name: Crude Rate, dtype: float64\n"
     ]
    },
    {
     "data": {
      "image/png": "[encoded data removed]",
      "text/plain": [
       "<Figure size 432x288 with 1 Axes>"
      ]
     },
     "metadata": {
      "needs_background": "light"
     },
     "output_type": "display_data"
    }
   ],
   "source": [
    "plt.plot(gdf, np.polyval(coeffF,gdf), color='tab:pink')\n",
    "plt.scatter(x1,y1, color='tab:pink')\n",
    "plt.scatter(2020.0, CF2_covid[\"Crude Rate\"], color='tab:pink')\n",
    "plt.scatter(2020.0, np.polyval(coeffF,2020), s=100, edgecolors='tab:pink', facecolors='none')\n",
    "\n",
    "plt.plot(gdf, np.polyval(coeffM,gdf), color='tab:blue')\n",
    "plt.scatter(x2,y2, color='tab:blue')\n",
    "plt.scatter(2020.0, CM2_covid[\"Crude Rate\"],color='tab:blue')\n",
    "plt.scatter(2020.0, np.polyval(coeffM,2020), s=100, edgecolors='tab:blue', facecolors='none')\n",
    "\n",
    "plt.plot(gdf, np.polyval(coeffF,gdf)+3*stdF, color='tab:pink', linestyle='dashed')\n",
    "plt.plot(gdf, np.polyval(coeffF,gdf)-3*stdF, color='tab:pink', linestyle='dashed')\n",
    "plt.plot(gdf, np.polyval(coeffM,gdf)+3*stdM, color='tab:blue', linestyle='dashed')\n",
    "plt.plot(gdf, np.polyval(coeffM,gdf)-3*stdM, color='tab:blue', linestyle='dashed')\n",
    "\n",
    "print('percent off female = ',(CF2_covid[\"Crude Rate\"]/np.polyval(coeffF,2020)-1)*100)\n",
    "print('percent off male = ',(CM2_covid[\"Crude Rate\"]/np.polyval(coeffM,2020)-1)*100)\n",
    "plt.suptitle('heroin (T40.1)', fontsize=20)\n",
    "#plt.xlabel(\"year\", fontsize =14)\n",
    "plt.ylabel(\"crude rate\", fontsize =14)\n",
    "plt.yticks(np.arange(0, 8.3, 2.0))\n",
    "#plt.legend([\"females\", \"males\"], frameon=False, fontsize = 14)\n",
    "plt.yticks(fontsize=12, rotation=0)\n",
    "plt.xticks(fontsize=12, rotation=0)\n",
    "\n",
    "plt.savefig('AttemptT40.1_R.svg')"
   ]
  }
 ],
 "metadata": {
  "kernelspec": {
   "display_name": "Python 3",
   "language": "python",
   "name": "python3"
  },
  "language_info": {
   "codemirror_mode": {
    "name": "ipython",
    "version": 3
   },
   "file_extension": ".py",
   "mimetype": "text/x-python",
   "name": "python",
   "nbconvert_exporter": "python",
   "pygments_lexer": "ipython3",
   "version": "3.8.5"
  }
 },
 "nbformat": 4,
 "nbformat_minor": 5
}
