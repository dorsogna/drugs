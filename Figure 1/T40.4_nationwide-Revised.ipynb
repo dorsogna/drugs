{
 "cells": [
  {
   "cell_type": "code",
   "execution_count": 1,
   "metadata": {},
   "outputs": [],
   "source": [
    "# import the pandas module\n",
    "# https://pandas.pydata.org/docs/user_guide/index.html\n",
    "\n",
    "import pandas as pd\n",
    "\n",
    "# numpy is a standard module for simple numerical calculations\n",
    "import numpy as np\n",
    "import scipy.stats\n",
    "import matplotlib.pyplot as plt\n",
    "import statsmodels.api as sm"
   ]
  },
  {
   "cell_type": "code",
   "execution_count": 2,
   "metadata": {},
   "outputs": [],
   "source": [
    "data_frame = pd.read_csv(\"T40.4_nationwide.txt\",delimiter=\"\\t\")"
   ]
  },
  {
   "cell_type": "markdown",
   "metadata": {},
   "source": [
    "We replace \"Unreliable\" by NaN."
   ]
  },
  {
   "cell_type": "code",
   "execution_count": 3,
   "metadata": {},
   "outputs": [],
   "source": [
    "data_frame=data_frame.replace(\"Unreliable\",np.nan)"
   ]
  },
  {
   "cell_type": "code",
   "execution_count": 4,
   "metadata": {},
   "outputs": [
    {
     "data": {
      "text/html": [
       "<div>\n",
       "<style scoped>\n",
       "    .dataframe tbody tr th:only-of-type {\n",
       "        vertical-align: middle;\n",
       "    }\n",
       "\n",
       "    .dataframe tbody tr th {\n",
       "        vertical-align: top;\n",
       "    }\n",
       "\n",
       "    .dataframe thead th {\n",
       "        text-align: right;\n",
       "    }\n",
       "</style>\n",
       "<table border=\"1\" class=\"dataframe\">\n",
       "  <thead>\n",
       "    <tr style=\"text-align: right;\">\n",
       "      <th></th>\n",
       "      <th>Notes</th>\n",
       "      <th>Year</th>\n",
       "      <th>Year Code</th>\n",
       "      <th>Gender</th>\n",
       "      <th>Gender Code</th>\n",
       "      <th>Deaths</th>\n",
       "      <th>Population</th>\n",
       "      <th>Crude Rate</th>\n",
       "    </tr>\n",
       "  </thead>\n",
       "  <tbody>\n",
       "    <tr>\n",
       "      <th>0</th>\n",
       "      <td>NaN</td>\n",
       "      <td>2013.0</td>\n",
       "      <td>2013.0</td>\n",
       "      <td>Female</td>\n",
       "      <td>F</td>\n",
       "      <td>1431.0</td>\n",
       "      <td>160477237.0</td>\n",
       "      <td>0.9</td>\n",
       "    </tr>\n",
       "    <tr>\n",
       "      <th>3</th>\n",
       "      <td>NaN</td>\n",
       "      <td>2014.0</td>\n",
       "      <td>2014.0</td>\n",
       "      <td>Female</td>\n",
       "      <td>F</td>\n",
       "      <td>2079.0</td>\n",
       "      <td>161920569.0</td>\n",
       "      <td>1.3</td>\n",
       "    </tr>\n",
       "    <tr>\n",
       "      <th>6</th>\n",
       "      <td>NaN</td>\n",
       "      <td>2015.0</td>\n",
       "      <td>2015.0</td>\n",
       "      <td>Female</td>\n",
       "      <td>F</td>\n",
       "      <td>3020.0</td>\n",
       "      <td>163189523.0</td>\n",
       "      <td>1.9</td>\n",
       "    </tr>\n",
       "    <tr>\n",
       "      <th>9</th>\n",
       "      <td>NaN</td>\n",
       "      <td>2016.0</td>\n",
       "      <td>2016.0</td>\n",
       "      <td>Female</td>\n",
       "      <td>F</td>\n",
       "      <td>5578.0</td>\n",
       "      <td>164048590.0</td>\n",
       "      <td>3.4</td>\n",
       "    </tr>\n",
       "    <tr>\n",
       "      <th>12</th>\n",
       "      <td>NaN</td>\n",
       "      <td>2017.0</td>\n",
       "      <td>2017.0</td>\n",
       "      <td>Female</td>\n",
       "      <td>F</td>\n",
       "      <td>7942.0</td>\n",
       "      <td>165311059.0</td>\n",
       "      <td>4.8</td>\n",
       "    </tr>\n",
       "    <tr>\n",
       "      <th>15</th>\n",
       "      <td>NaN</td>\n",
       "      <td>2018.0</td>\n",
       "      <td>2018.0</td>\n",
       "      <td>Female</td>\n",
       "      <td>F</td>\n",
       "      <td>8807.0</td>\n",
       "      <td>166038755.0</td>\n",
       "      <td>5.3</td>\n",
       "    </tr>\n",
       "    <tr>\n",
       "      <th>18</th>\n",
       "      <td>NaN</td>\n",
       "      <td>2019.0</td>\n",
       "      <td>2019.0</td>\n",
       "      <td>Female</td>\n",
       "      <td>F</td>\n",
       "      <td>10076.0</td>\n",
       "      <td>166582199.0</td>\n",
       "      <td>6.0</td>\n",
       "    </tr>\n",
       "    <tr>\n",
       "      <th>21</th>\n",
       "      <td>NaN</td>\n",
       "      <td>2020.0</td>\n",
       "      <td>2020.0</td>\n",
       "      <td>Female</td>\n",
       "      <td>F</td>\n",
       "      <td>15251.0</td>\n",
       "      <td>167227921.0</td>\n",
       "      <td>9.1</td>\n",
       "    </tr>\n",
       "  </tbody>\n",
       "</table>\n",
       "</div>"
      ],
      "text/plain": [
       "   Notes    Year  Year Code  Gender Gender Code   Deaths   Population  \\\n",
       "0    NaN  2013.0     2013.0  Female           F   1431.0  160477237.0   \n",
       "3    NaN  2014.0     2014.0  Female           F   2079.0  161920569.0   \n",
       "6    NaN  2015.0     2015.0  Female           F   3020.0  163189523.0   \n",
       "9    NaN  2016.0     2016.0  Female           F   5578.0  164048590.0   \n",
       "12   NaN  2017.0     2017.0  Female           F   7942.0  165311059.0   \n",
       "15   NaN  2018.0     2018.0  Female           F   8807.0  166038755.0   \n",
       "18   NaN  2019.0     2019.0  Female           F  10076.0  166582199.0   \n",
       "21   NaN  2020.0     2020.0  Female           F  15251.0  167227921.0   \n",
       "\n",
       "    Crude Rate  \n",
       "0          0.9  \n",
       "3          1.3  \n",
       "6          1.9  \n",
       "9          3.4  \n",
       "12         4.8  \n",
       "15         5.3  \n",
       "18         6.0  \n",
       "21         9.1  "
      ]
     },
     "execution_count": 4,
     "metadata": {},
     "output_type": "execute_result"
    }
   ],
   "source": [
    "data_frame[data_frame[\"Gender\"] == \"Female\"]"
   ]
  },
  {
   "cell_type": "code",
   "execution_count": 5,
   "metadata": {},
   "outputs": [],
   "source": [
    "CF2 = data_frame[(data_frame[\"Gender\"] == \"Female\") & \n",
    "                (data_frame[\"Year\"] != 2020.0)][[\"Year\", \"Crude Rate\"]].astype(float) \n",
    "CM2 = data_frame[(data_frame[\"Gender\"] == \"Male\") & \n",
    "                (data_frame[\"Year\"] != 2020.0)][[\"Year\", \"Crude Rate\"]].astype(float)\n",
    "CF = data_frame[(data_frame[\"Gender\"] == \"Female\")] [[\"Year\", \"Crude Rate\"]].astype(float) \n",
    "CM = data_frame[(data_frame[\"Gender\"] == \"Male\")][[\"Year\", \"Crude Rate\"]].astype(float)\n",
    "CF2_covid = data_frame[(data_frame[\"Gender\"] == \"Female\") & \n",
    "                (data_frame[\"Year\"] == 2020.0)][[\"Year\", \"Crude Rate\"]].astype(float)\n",
    "CM2_covid = data_frame[(data_frame[\"Gender\"] == \"Male\") & \n",
    "                (data_frame[\"Year\"] == 2020.0)][[\"Year\", \"Crude Rate\"]].astype(float)"
   ]
  },
  {
   "cell_type": "code",
   "execution_count": 6,
   "metadata": {},
   "outputs": [],
   "source": [
    "x1=CF2[\"Year\"]\n",
    "x1c=CF[\"Year\"]\n",
    "y1=CF2[\"Crude Rate\"]\n",
    "\n",
    "x2=CM2[\"Year\"]\n",
    "x2c=CM[\"Year\"]\n",
    "y2=CM2[\"Crude Rate\"]"
   ]
  },
  {
   "cell_type": "code",
   "execution_count": 7,
   "metadata": {},
   "outputs": [],
   "source": [
    "yF = CF2[\"Crude Rate\"]\n",
    "xF = CF2[\"Year\"]"
   ]
  },
  {
   "cell_type": "code",
   "execution_count": 8,
   "metadata": {},
   "outputs": [],
   "source": [
    "yM = CM2[\"Crude Rate\"]\n",
    "xM = CM2[\"Year\"]"
   ]
  },
  {
   "cell_type": "code",
   "execution_count": 9,
   "metadata": {},
   "outputs": [],
   "source": [
    "xr=CM2[\"Year\"]\n",
    "yr=CM2[\"Crude Rate\"].div(CF2[\"Crude Rate\"].values)"
   ]
  },
  {
   "cell_type": "code",
   "execution_count": 10,
   "metadata": {},
   "outputs": [],
   "source": [
    "coeffF = np.polyfit(x1, y1, 2)\n",
    "yfitF = np.polyval(coeffF,x1)\n",
    "resF = np.sum((y1  - yfitF)**2)\n",
    "coeffM = np.polyfit(x2, y2, 2)\n",
    "yfitM = np.polyval(coeffM,x2)\n",
    "resM = np.sum((y2  - yfitM)**2)\n",
    "\n",
    "#stdF = np.sqrt(resF/5)\n",
    "#stdM = np.sqrt(resM/5)\n",
    "\n",
    "stdF = np.sqrt(resF/(len(y1)-3))\n",
    "stdM = np.sqrt(resM/(len(y1)-3))"
   ]
  },
  {
   "cell_type": "code",
   "execution_count": 11,
   "metadata": {},
   "outputs": [
    {
     "name": "stdout",
     "output_type": "stream",
     "text": [
      "percent off male =  22    28.282828\n",
      "Name: Crude Rate, dtype: float64\n",
      "percent off female =  21    25.889328\n",
      "Name: Crude Rate, dtype: float64\n"
     ]
    },
    {
     "data": {
      "image/png": "[encoded data removed]",
      "text/plain": [
       "<Figure size 432x288 with 1 Axes>"
      ]
     },
     "metadata": {
      "needs_background": "light"
     },
     "output_type": "display_data"
    }
   ],
   "source": [
    "plt.scatter(x2,y2, color='tab:blue')\n",
    "plt.legend([\"Crude Rate Females\", \"Crude Rate Males\"])\n",
    "plt.scatter(2020.0, CM2_covid[\"Crude Rate\"],color='tab:blue')\n",
    "plt.scatter(2020.0, np.polyval(coeffM,2020), s=100, edgecolors='tab:blue', facecolors='none')\n",
    "\n",
    "plt.scatter(x1,y1, color='tab:pink')\n",
    "plt.scatter(2020.0, CF2_covid[\"Crude Rate\"], color='tab:pink')\n",
    "plt.scatter(2020.0, np.polyval(coeffF,2020), s=100, edgecolors='tab:pink', facecolors='none')\n",
    "\n",
    "plt.plot(x1c, np.polyval(coeffM,x1c), color='tab:blue')\n",
    "plt.plot(x1c, np.polyval(coeffF,x1c), color='tab:pink')\n",
    "\n",
    "plt.plot(x2c, np.polyval(coeffM,x1c)+3*stdM, color='tab:blue', linestyle='dashed')\n",
    "plt.plot(x2c, np.polyval(coeffM,x1c)-3*stdM, color='tab:blue', linestyle='dashed')\n",
    "plt.plot(x2c, np.polyval(coeffF,x1c)+3*stdF, color='tab:pink' , linestyle='dashed')\n",
    "plt.plot(x2c, np.polyval(coeffF,x1c)-3*stdF, color='tab:pink', linestyle='dashed')\n",
    "\n",
    "print('percent off male = ',(CM2_covid[\"Crude Rate\"]/np.polyval(coeffM,2020)-1)*100)\n",
    "print('percent off female = ',(CF2_covid[\"Crude Rate\"]/np.polyval(coeffF,2020)-1)*100)\n",
    "plt.suptitle('fentanyl (T40.4)', fontsize=20)\n",
    "#plt.xlabel(\"year\", fontsize=14)\n",
    "plt.ylabel(\"crude rate\", fontsize=14)\n",
    "plt.yticks(fontsize=12, rotation=0)\n",
    "plt.xticks(fontsize=12, rotation=0)\n",
    "plt.legend([\"male\", \"female\"], frameon=False, fontsize=18)\n",
    "plt.savefig(\"AttemptT40.4_R.svg\")"
   ]
  },
  {
   "cell_type": "code",
   "execution_count": null,
   "metadata": {},
   "outputs": [],
   "source": []
  }
 ],
 "metadata": {
  "kernelspec": {
   "display_name": "Python 3",
   "language": "python",
   "name": "python3"
  },
  "language_info": {
   "codemirror_mode": {
    "name": "ipython",
    "version": 3
   },
   "file_extension": ".py",
   "mimetype": "text/x-python",
   "name": "python",
   "nbconvert_exporter": "python",
   "pygments_lexer": "ipython3",
   "version": "3.8.5"
  }
 },
 "nbformat": 4,
 "nbformat_minor": 5
}
