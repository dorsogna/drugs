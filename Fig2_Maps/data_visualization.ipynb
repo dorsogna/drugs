{
 "cells": [
  {
   "cell_type": "markdown",
   "metadata": {},
   "source": [
    "# CDC Wonder data analysis"
   ]
  },
  {
   "cell_type": "code",
   "execution_count": 3,
   "metadata": {},
   "outputs": [],
   "source": [
    "from urllib.request import urlopen\n",
    "import json\n",
    "import geopandas\n",
    "import plotly\n",
    "import pandas as pd\n",
    "import numpy as np\n",
    "import seaborn as sns\n",
    "import matplotlib.pyplot as plt\n",
    "import plotly.express as px"
   ]
  },
  {
   "cell_type": "markdown",
   "metadata": {},
   "source": [
    "Some helpful dictionaries and lists that contain state codes and names."
   ]
  },
  {
   "cell_type": "code",
   "execution_count": 4,
   "metadata": {},
   "outputs": [],
   "source": [
    "us_state_to_abbrev = {\n",
    "    \"Alabama\": \"AL\",\n",
    "    \"Alaska\": \"AK\",\n",
    "    \"Arizona\": \"AZ\",\n",
    "    \"Arkansas\": \"AR\",\n",
    "    \"California\": \"CA\",\n",
    "    \"Colorado\": \"CO\",\n",
    "    \"Connecticut\": \"CT\",\n",
    "    \"Delaware\": \"DE\",\n",
    "    \"Florida\": \"FL\",\n",
    "    \"Georgia\": \"GA\",\n",
    "    \"Hawaii\": \"HI\",\n",
    "    \"Idaho\": \"ID\",\n",
    "    \"Illinois\": \"IL\",\n",
    "    \"Indiana\": \"IN\",\n",
    "    \"Iowa\": \"IA\",\n",
    "    \"Kansas\": \"KS\",\n",
    "    \"Kentucky\": \"KY\",\n",
    "    \"Louisiana\": \"LA\",\n",
    "    \"Maine\": \"ME\",\n",
    "    \"Maryland\": \"MD\",\n",
    "    \"Massachusetts\": \"MA\",\n",
    "    \"Michigan\": \"MI\",\n",
    "    \"Minnesota\": \"MN\",\n",
    "    \"Mississippi\": \"MS\",\n",
    "    \"Missouri\": \"MO\",\n",
    "    \"Montana\": \"MT\",\n",
    "    \"Nebraska\": \"NE\",\n",
    "    \"Nevada\": \"NV\",\n",
    "    \"New Hampshire\": \"NH\",\n",
    "    \"New Jersey\": \"NJ\",\n",
    "    \"New Mexico\": \"NM\",\n",
    "    \"New York\": \"NY\",\n",
    "    \"North Carolina\": \"NC\",\n",
    "    \"North Dakota\": \"ND\",\n",
    "    \"Ohio\": \"OH\",\n",
    "    \"Oklahoma\": \"OK\",\n",
    "    \"Oregon\": \"OR\",\n",
    "    \"Pennsylvania\": \"PA\",\n",
    "    \"Rhode Island\": \"RI\",\n",
    "    \"South Carolina\": \"SC\",\n",
    "    \"South Dakota\": \"SD\",\n",
    "    \"Tennessee\": \"TN\",\n",
    "    \"Texas\": \"TX\",\n",
    "    \"Utah\": \"UT\",\n",
    "    \"Vermont\": \"VT\",\n",
    "    \"Virginia\": \"VA\",\n",
    "    \"Washington\": \"WA\",\n",
    "    \"West Virginia\": \"WV\",\n",
    "    \"Wisconsin\": \"WI\",\n",
    "    \"Wyoming\": \"WY\",\n",
    "    \"District of Columbia\": \"DC\",\n",
    "    \"American Samoa\": \"AS\",\n",
    "    \"Guam\": \"GU\",\n",
    "    \"Northern Mariana Islands\": \"MP\",\n",
    "    \"Puerto Rico\": \"PR\",\n",
    "    \"United States Minor Outlying Islands\": \"UM\",\n",
    "    \"U.S. Virgin Islands\": \"VI\",\n",
    "}"
   ]
  },
  {
   "cell_type": "code",
   "execution_count": 5,
   "metadata": {},
   "outputs": [],
   "source": [
    "us_abbrev_to_state = {v: k for k, v in us_state_to_abbrev.items()}"
   ]
  },
  {
   "cell_type": "code",
   "execution_count": 6,
   "metadata": {},
   "outputs": [],
   "source": [
    "states_list = np.asarray(['AK', 'AL', 'AR', 'AZ', 'CA', 'CO', 'CT', 'DC', 'DE', 'FL', 'GA',\n",
    "           'HI', 'IA', 'ID', 'IL', 'IN', 'KS', 'KY', 'LA', 'MA', 'MD', 'ME',\n",
    "           'MI', 'MN', 'MO', 'MS', 'MT', 'NC', 'ND', 'NE', 'NH', 'NJ', 'NM',\n",
    "           'NV', 'NY', 'OH', 'OK', 'OR', 'PA', 'RI', 'SC', 'SD', 'TN', 'TX',\n",
    "           'UT', 'VA', 'VT', 'WA', 'WI', 'WV', 'WY'])"
   ]
  },
  {
   "cell_type": "markdown",
   "metadata": {},
   "source": [
    "We first generate some maps that show the crude mortality rate differences (i.e., deaths per 100,000 of the population) between 2020 and 2019 associated with different drug overdose categories. "
   ]
  },
  {
   "cell_type": "code",
   "execution_count": 18,
   "metadata": {},
   "outputs": [],
   "source": [
    "def plot_difference_map(gender, y_lim):\n",
    "    \n",
    "    df_1 = pd.read_csv(\"T40.2_MCD_drug_induced.csv\",delimiter=\",\")\n",
    "    df_1 = df_1.replace(\"Suppressed\",np.nan)\n",
    "    df_1 = df_1.replace(\"Unreliable\",np.nan)\n",
    "    df_1 = df_1[df_1[\"Year\"] == float(2019)]\n",
    "    df_1 = df_1[df_1[\"Gender\"] == \"%s\"%gender]\n",
    "    df_1 = df_1[[\"State\",\"State Code\",\"Deaths\",\"Crude Rate\"]].dropna()\n",
    "    df_1[[\"Deaths\",\"Crude Rate\"]] = df_1[[\"Deaths\",\"Crude Rate\"]].apply(pd.to_numeric)\n",
    "    state_codes_1 = pd.Series(df_1[\"State\"]).map(us_state_to_abbrev).to_numpy()\n",
    "\n",
    "    df_2 = pd.read_csv(\"T40.2_MCD_drug_induced.csv\",delimiter=\",\")\n",
    "    df_2 = df_2.replace(\"Suppressed\",np.nan)\n",
    "    df_2 = df_2.replace(\"Unreliable\",np.nan)\n",
    "    df_2 = df_2[df_2[\"Year\"] == float(2020)]\n",
    "    df_2 = df_2[df_2[\"Gender\"] == \"%s\"%gender]\n",
    "    df_2 = df_2[[\"State\",\"State Code\",\"Deaths\",\"Crude Rate\"]].dropna()\n",
    "    df_2[[\"Deaths\",\"Crude Rate\"]] = df_2[[\"Deaths\",\"Crude Rate\"]].apply(pd.to_numeric)\n",
    "    state_codes_2 = pd.Series(df_2[\"State\"]).map(us_state_to_abbrev).to_numpy()\n",
    "    \n",
    "    df_1 = df_1.reset_index(drop=True)\n",
    "    df_2 = df_2.reset_index(drop=True)\n",
    "\n",
    "    crude_rate_difference = [(df_2[[\"Crude Rate\"]]-df_1[[\"Crude Rate\"]])/df_1[[\"Crude Rate\"]]]\n",
    "    \n",
    "    df = pd.DataFrame()\n",
    "    \n",
    "    state_codes = set(state_codes_1).intersection(set(state_codes_2))\n",
    "    \n",
    "    crude_rate_difference = [(float(df_2[df_2[\"State\"] == us_abbrev_to_state[state]][\"Crude Rate\"])-\n",
    "     float(df_1[df_1[\"State\"] == us_abbrev_to_state[state]][\"Crude Rate\"]))/float(df_1[df_1[\"State\"] == us_abbrev_to_state[state]][\"Crude Rate\"])\n",
    "     for state in state_codes]\n",
    "    \n",
    "    #crude_rate_difference = [min(1,x) for x in crude_rate_difference]\n",
    "    #crude_rate_difference = [max(-1,x) for x in crude_rate_difference]\n",
    "\n",
    "    df[\"Difference Crude Rate 2020-2019\"] = crude_rate_difference\n",
    "    df[\"State Codes\"] = state_codes\n",
    "\n",
    "    print(df)\n",
    "    \n",
    "    fig = px.choropleth(df, locationmode = \"USA-states\", locations=list(state_codes), color=\"Difference Crude Rate 2020-2019\",\n",
    "                               color_continuous_scale=\"RdYlGn_r\",\n",
    "                               range_color=(-1, 1),\n",
    "                               scope=\"usa\"\n",
    "                              )\n",
    "    #fig.update_layout(margin={\"r\":0,\"t\":0,\"l\":0,\"b\":0})\n",
    "    #fig.update_layout(title_text = \"%s Drug Overdose Deaths by State (%s)\"%(y,gender))\n",
    "    #fig.write_image(\"T40.2_MCD_drug_induced_%s.svg\"%(gender)) \n",
    "    fig.show()"
   ]
  },
  {
   "cell_type": "code",
   "execution_count": 19,
   "metadata": {},
   "outputs": [
    {
     "ename": "NameError",
     "evalue": "name 'states' is not defined",
     "output_type": "error",
     "traceback": [
      "\u001b[0;31m---------------------------------------------------------------------------\u001b[0m",
      "\u001b[0;31mNameError\u001b[0m                                 Traceback (most recent call last)",
      "\u001b[0;32m<ipython-input-19-3494f273a004>\u001b[0m in \u001b[0;36m<module>\u001b[0;34m\u001b[0m\n\u001b[0;32m----> 1\u001b[0;31m \u001b[0mplot_difference_map\u001b[0m\u001b[0;34m(\u001b[0m\u001b[0;34m\"Male\"\u001b[0m\u001b[0;34m,\u001b[0m \u001b[0;36m120\u001b[0m\u001b[0;34m)\u001b[0m\u001b[0;34m\u001b[0m\u001b[0;34m\u001b[0m\u001b[0m\n\u001b[0m",
      "\u001b[0;32m<ipython-input-18-82bcc3d7a040>\u001b[0m in \u001b[0;36mplot_difference_map\u001b[0;34m(gender, y_lim)\u001b[0m\n\u001b[1;32m     28\u001b[0m     \u001b[0mstate_codes\u001b[0m \u001b[0;34m=\u001b[0m \u001b[0mset\u001b[0m\u001b[0;34m(\u001b[0m\u001b[0mstate_codes_1\u001b[0m\u001b[0;34m)\u001b[0m\u001b[0;34m.\u001b[0m\u001b[0mintersection\u001b[0m\u001b[0;34m(\u001b[0m\u001b[0mset\u001b[0m\u001b[0;34m(\u001b[0m\u001b[0mstate_codes_2\u001b[0m\u001b[0;34m)\u001b[0m\u001b[0;34m)\u001b[0m\u001b[0;34m\u001b[0m\u001b[0;34m\u001b[0m\u001b[0m\n\u001b[1;32m     29\u001b[0m \u001b[0;34m\u001b[0m\u001b[0m\n\u001b[0;32m---> 30\u001b[0;31m     \u001b[0mnot_states\u001b[0m \u001b[0;34m=\u001b[0m \u001b[0;34m[\u001b[0m\u001b[0mx\u001b[0m \u001b[0;32mfor\u001b[0m \u001b[0mx\u001b[0m \u001b[0;32min\u001b[0m \u001b[0mstates\u001b[0m \u001b[0;32mif\u001b[0m \u001b[0mx\u001b[0m \u001b[0;32mnot\u001b[0m \u001b[0;32min\u001b[0m \u001b[0mlist\u001b[0m\u001b[0;34m(\u001b[0m\u001b[0mstate_codes\u001b[0m\u001b[0;34m)\u001b[0m\u001b[0;34m]\u001b[0m\u001b[0;34m\u001b[0m\u001b[0;34m\u001b[0m\u001b[0m\n\u001b[0m\u001b[1;32m     31\u001b[0m \u001b[0;34m\u001b[0m\u001b[0m\n\u001b[1;32m     32\u001b[0m     \u001b[0mprint\u001b[0m\u001b[0;34m(\u001b[0m\u001b[0mnot_states\u001b[0m\u001b[0;34m)\u001b[0m\u001b[0;34m\u001b[0m\u001b[0;34m\u001b[0m\u001b[0m\n",
      "\u001b[0;31mNameError\u001b[0m: name 'states' is not defined"
     ]
    }
   ],
   "source": [
    "plot_difference_map(\"Male\", 120)"
   ]
  },
  {
   "cell_type": "code",
   "execution_count": 45,
   "metadata": {},
   "outputs": [],
   "source": [
    "def plot_bar_chart(gender):\n",
    "    \n",
    "    df_1 = pd.read_csv(\"T43.6_MCD_drug_induced.csv\",delimiter=\",\")\n",
    "    df_1 = df_1.replace(\"Suppressed\",np.nan)\n",
    "    df_1 = df_1.replace(\"Unreliable\",np.nan)\n",
    "    df_1 = df_1[df_1[\"Year\"] == float(2019)]\n",
    "    df_1 = df_1[df_1[\"Gender\"] == \"%s\"%gender]\n",
    "    df_1 = df_1[[\"State\",\"State Code\",\"Deaths\",\"Crude Rate\"]].dropna()\n",
    "    df_1[[\"Deaths\",\"Crude Rate\"]] = df_1[[\"Deaths\",\"Crude Rate\"]].apply(pd.to_numeric)\n",
    "    state_codes_1 = pd.Series(df_1[\"State\"]).map(us_state_to_abbrev).to_numpy()\n",
    "\n",
    "    df_2 = pd.read_csv(\"T43.6_MCD_drug_induced.csv\",delimiter=\",\")\n",
    "    df_2 = df_2.replace(\"Suppressed\",np.nan)\n",
    "    df_2 = df_2.replace(\"Unreliable\",np.nan)\n",
    "    df_2 = df_2[df_2[\"Year\"] == float(2020)]\n",
    "    df_2 = df_2[df_2[\"Gender\"] == \"%s\"%gender]\n",
    "    df_2 = df_2[[\"State\",\"State Code\",\"Deaths\",\"Crude Rate\"]].dropna()\n",
    "    df_2[[\"Deaths\",\"Crude Rate\"]] = df_2[[\"Deaths\",\"Crude Rate\"]].apply(pd.to_numeric)\n",
    "    state_codes_2 = pd.Series(df_2[\"State\"]).map(us_state_to_abbrev).to_numpy()\n",
    "    \n",
    "    df_1 = df_1.reset_index(drop=True)\n",
    "    df_2 = df_2.reset_index(drop=True)\n",
    "\n",
    "    df = pd.DataFrame()\n",
    "    \n",
    "    state_codes = set(state_codes_1).intersection(set(state_codes_2))\n",
    "    \n",
    "    not_states = [x for x in states_list if x not in list(state_codes)]\n",
    "    \n",
    "    print([us_abbrev_to_state[x] for x in not_states])\n",
    "    \n",
    "    data_2019 = [float(df_1[df_1[\"State\"] == us_abbrev_to_state[state]][\"Crude Rate\"]) for state in state_codes]\n",
    "    data_2020 = [float(df_2[df_2[\"State\"] == us_abbrev_to_state[state]][\"Crude Rate\"]) for state in state_codes]\n",
    "    \n",
    "    df[\"2019 data\"] = data_2019\n",
    "    df[\"2020 data\"] = data_2020\n",
    "    df[\"states\"] = state_codes\n",
    "\n",
    "    df = df.sort_values('states')\n",
    "    \n",
    "    sns.set_context('paper')\n",
    "    \n",
    "    f, ax = plt.subplots(figsize = (6,15))\n",
    "    sns.set_color_codes('pastel')\n",
    "    sns.barplot(x = '2019 data', y = 'states', data = df,\n",
    "                label = '2019', color = 'tab:red', edgecolor = 'w', alpha=0.8)\n",
    "    #sns.set_color_codes('muted')\n",
    "    sns.barplot(x = '2020 data', y = 'states', data = df,\n",
    "                label = '2020', color = 'tab:blue', edgecolor = 'w',alpha=0.3)\n",
    "    ax.legend(ncol = 2, loc = 'upper right',fontsize=12)\n",
    "    ax.set_xlabel(\"Crude Rate\",fontsize=16)\n",
    "    plt.xticks(fontsize=14)\n",
    "    plt.yticks(fontsize=14)\n",
    "    ax.set_ylabel(\"\")\n",
    "    sns.despine(left = True, bottom = True)\n",
    "    #plt.savefig(\"T40.1_MCD_drug_induced_barchart_%s.svg\"%(gender)) \n",
    "    plt.show()"
   ]
  },
  {
   "cell_type": "code",
   "execution_count": 47,
   "metadata": {},
   "outputs": [
    {
     "name": "stdout",
     "output_type": "stream",
     "text": [
      "['Alaska', 'Connecticut', 'District of Columbia', 'Delaware', 'Montana', 'North Dakota', 'Nebraska', 'Rhode Island', 'South Dakota', 'Vermont', 'Wyoming']\n"
     ]
    },
    {
     "data": {
      "image/png": "[encoded data removed]",
      "text/plain": [
       "<Figure size 432x1080 with 1 Axes>"
      ]
     },
     "metadata": {
      "needs_background": "light"
     },
     "output_type": "display_data"
    }
   ],
   "source": [
    "plot_bar_chart(\"Female\")"
   ]
  },
  {
   "cell_type": "code",
   "execution_count": 26,
   "metadata": {},
   "outputs": [],
   "source": [
    "def plot_bar_chart_race(gender,race):\n",
    "    \n",
    "    df_1 = pd.read_csv(\"T43.6_MCD_drug_induced_race.csv\",delimiter=\"\\t\")\n",
    "    df_1 = df_1.replace(\"Suppressed\",np.nan)\n",
    "    df_1 = df_1.replace(\"Unreliable\",np.nan)\n",
    "    df_1 = df_1[df_1[\"Year\"] == float(2019)]\n",
    "    df_1 = df_1[df_1[\"Gender\"] == \"%s\"%gender]\n",
    "    df_1 = df_1[df_1[\"Single Race 6\"] == \"%s\"%race]\n",
    "    df_1 = df_1[[\"State\",\"State Code\",\"Deaths\",\"Crude Rate\"]].dropna()\n",
    "    df_1[[\"Deaths\",\"Crude Rate\"]] = df_1[[\"Deaths\",\"Crude Rate\"]].apply(pd.to_numeric)\n",
    "    state_codes_1 = pd.Series(df_1[\"State\"]).map(us_state_to_abbrev).to_numpy()\n",
    "\n",
    "    df_2 = pd.read_csv(\"T43.6_MCD_drug_induced_race.csv\",delimiter=\"\\t\")\n",
    "    df_2 = df_2.replace(\"Suppressed\",np.nan)\n",
    "    df_2 = df_2.replace(\"Unreliable\",np.nan)\n",
    "    df_2 = df_2[df_2[\"Year\"] == float(2020)]\n",
    "    df_2 = df_2[df_2[\"Gender\"] == \"%s\"%gender]\n",
    "    df_2 = df_2[df_2[\"Single Race 6\"] == \"%s\"%race]\n",
    "    df_2 = df_2[[\"State\",\"State Code\",\"Deaths\",\"Crude Rate\"]].dropna()\n",
    "    df_2[[\"Deaths\",\"Crude Rate\"]] = df_2[[\"Deaths\",\"Crude Rate\"]].apply(pd.to_numeric)\n",
    "    state_codes_2 = pd.Series(df_2[\"State\"]).map(us_state_to_abbrev).to_numpy()\n",
    "    \n",
    "    df_1 = df_1.reset_index(drop=True)\n",
    "    df_2 = df_2.reset_index(drop=True)\n",
    "\n",
    "    df = pd.DataFrame()\n",
    "    \n",
    "    state_codes = set(state_codes_1).intersection(set(state_codes_2))\n",
    "    \n",
    "    not_states = [x for x in states_list if x not in list(state_codes)]\n",
    "    \n",
    "    print([us_abbrev_to_state[x] for x in not_states])\n",
    "    \n",
    "    data_2019 = [float(df_1[df_1[\"State\"] == us_abbrev_to_state[state]][\"Crude Rate\"]) for state in state_codes]\n",
    "    data_2020 = [float(df_2[df_2[\"State\"] == us_abbrev_to_state[state]][\"Crude Rate\"]) for state in state_codes]\n",
    "    \n",
    "    df[\"2019 data\"] = data_2019\n",
    "    df[\"2020 data\"] = data_2020\n",
    "    df[\"states\"] = state_codes\n",
    "\n",
    "    df = df.sort_values('states')\n",
    "    \n",
    "    sns.set_context('paper')\n",
    "    \n",
    "    f, ax = plt.subplots(figsize = (6,15))\n",
    "    sns.set_color_codes('pastel')\n",
    "    sns.barplot(x = '2019 data', y = 'states', data = df,\n",
    "                label = '2019', color = 'tab:red', edgecolor = 'w', alpha=0.8)\n",
    "    #sns.set_color_codes('muted')\n",
    "    sns.barplot(x = '2020 data', y = 'states', data = df,\n",
    "                label = '2020', color = 'tab:blue', edgecolor = 'w',alpha=0.3)\n",
    "    ax.legend(ncol = 2, loc = 'upper right',fontsize=12)\n",
    "    ax.set_xlabel(\"Crude Rate\",fontsize=16)\n",
    "    plt.xticks(fontsize=14)\n",
    "    plt.yticks(fontsize=14)\n",
    "    ax.set_ylabel(\"\")\n",
    "    sns.despine(left = True, bottom = True)\n",
    "    plt.savefig(\"T43.6_MCD_drug_induced_barchart_%s_%s.svg\"%(gender,race)) \n",
    "    plt.show()"
   ]
  },
  {
   "cell_type": "code",
   "execution_count": 28,
   "metadata": {},
   "outputs": [
    {
     "name": "stdout",
     "output_type": "stream",
     "text": [
      "['District of Columbia', 'North Dakota', 'Rhode Island', 'South Dakota', 'Vermont']\n"
     ]
    },
    {
     "data": {
      "image/png": "[encoded data removed]",
      "text/plain": [
       "<Figure size 432x1080 with 1 Axes>"
      ]
     },
     "metadata": {
      "needs_background": "light"
     },
     "output_type": "display_data"
    }
   ],
   "source": [
    "plot_bar_chart_race(\"Male\", \"White\")"
   ]
  },
  {
   "cell_type": "code",
   "execution_count": null,
   "metadata": {},
   "outputs": [],
   "source": []
  }
 ],
 "metadata": {
  "kernelspec": {
   "display_name": "Python 3",
   "language": "python",
   "name": "python3"
  },
  "language_info": {
   "codemirror_mode": {
    "name": "ipython",
    "version": 3
   },
   "file_extension": ".py",
   "mimetype": "text/x-python",
   "name": "python",
   "nbconvert_exporter": "python",
   "pygments_lexer": "ipython3",
   "version": "3.8.5"
  }
 },
 "nbformat": 4,
 "nbformat_minor": 5
}
