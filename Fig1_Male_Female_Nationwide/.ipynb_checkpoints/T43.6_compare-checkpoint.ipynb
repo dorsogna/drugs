{
 "cells": [
  {
   "cell_type": "code",
   "execution_count": 23,
   "metadata": {},
   "outputs": [],
   "source": [
    "# import the pandas module\n",
    "# https://pandas.pydata.org/docs/user_guide/index.html\n",
    "\n",
    "import pandas as pd\n",
    "\n",
    "# numpy is a standard module for simple numerical calculations\n",
    "import numpy as np\n",
    "import scipy.stats\n",
    "import matplotlib.pyplot as plt\n",
    "import statsmodels.api as sm"
   ]
  },
  {
   "cell_type": "code",
   "execution_count": 24,
   "metadata": {},
   "outputs": [],
   "source": [
    "data_frame0 = pd.read_csv(\"T43.6_nationwide.txt\",delimiter=\"\\t\")"
   ]
  },
  {
   "cell_type": "markdown",
   "metadata": {},
   "source": [
    "We replace \"Unreliable\" by NaN."
   ]
  },
  {
   "cell_type": "code",
   "execution_count": 25,
   "metadata": {},
   "outputs": [],
   "source": [
    "data_frame0=data_frame0.replace(\"Unreliable\",np.nan)"
   ]
  },
  {
   "cell_type": "code",
   "execution_count": 26,
   "metadata": {},
   "outputs": [],
   "source": [
    "data_frame = pd.read_csv(\"T43.6_Race.txt\",delimiter=\"\\t\")"
   ]
  },
  {
   "cell_type": "code",
   "execution_count": 27,
   "metadata": {},
   "outputs": [],
   "source": [
    "data_frame=data_frame.replace(\"Unreliable\",np.nan)"
   ]
  },
  {
   "cell_type": "code",
   "execution_count": 28,
   "metadata": {},
   "outputs": [],
   "source": [
    "CF2 = data_frame0[(data_frame0[\"Gender\"] == \"Female\") & \n",
    "                (data_frame0[\"Year\"] != 2020.0)][[\"Year\", \"Crude Rate\"]].astype(float) \n",
    "CM2 = data_frame0[(data_frame0[\"Gender\"] == \"Male\") & \n",
    "                (data_frame0[\"Year\"] != 2020.0)][[\"Year\", \"Crude Rate\"]].astype(float)\n",
    "CF = data_frame0[(data_frame0[\"Gender\"] == \"Female\")] [[\"Year\", \"Crude Rate\"]].astype(float) \n",
    "CM = data_frame0[(data_frame0[\"Gender\"] == \"Male\")][[\"Year\", \"Crude Rate\"]].astype(float)\n",
    "CF2_covid = data_frame0[(data_frame0[\"Gender\"] == \"Female\") & \n",
    "                (data_frame0[\"Year\"] == 2020.0)][[\"Year\", \"Crude Rate\"]].astype(float)\n",
    "CM2_covid = data_frame0[(data_frame0[\"Gender\"] == \"Male\") & \n",
    "                (data_frame0[\"Year\"] == 2020.0)][[\"Year\", \"Crude Rate\"]].astype(float)"
   ]
  },
  {
   "cell_type": "code",
   "execution_count": 29,
   "metadata": {},
   "outputs": [],
   "source": [
    "CF2b = data_frame[(data_frame[\"Gender\"] == \"Female\") & (data_frame[\"Race\"] == \"Black or African American\")& \n",
    "           (data_frame[\"Notes\"] != \"Total\")&\n",
    "                 (data_frame[\"Year\"] != 2020.0)][[\"Year\", \"Crude Rate\"]].astype(float) \n",
    "CM2b = data_frame[(data_frame[\"Gender\"] == \"Male\") & (data_frame[\"Race\"] == \"Black or African American\")& \n",
    "           (data_frame[\"Notes\"] != \"Total\")&\n",
    "                (data_frame[\"Year\"] != 2020.0)][[\"Year\", \"Crude Rate\"]].astype(float)\n",
    "CFb = data_frame[(data_frame[\"Gender\"] == \"Female\") & (data_frame[\"Race\"] == \"Black or African American\")& \n",
    "           (data_frame[\"Notes\"] != \"Total\")][[\"Year\", \"Crude Rate\"]].astype(float)\n",
    "CMb = data_frame[(data_frame[\"Gender\"] == \"Male\") & (data_frame[\"Race\"] == \"Black or African American\")& \n",
    "           (data_frame[\"Notes\"] != \"Total\")][[\"Year\", \"Crude Rate\"]].astype(float)\n",
    "CF2b_covid = data_frame[(data_frame[\"Gender\"] == \"Female\") & (data_frame[\"Race\"] == \"Black or African American\")& \n",
    "           (data_frame[\"Year\"] == 2020.0)][[\"Year\", \"Crude Rate\"]].astype(float)\n",
    "CM2b_covid = data_frame[(data_frame[\"Gender\"] == \"Male\") & (data_frame[\"Race\"] == \"Black or African American\")& \n",
    "                (data_frame[\"Year\"] == 2020.0)][[\"Year\", \"Crude Rate\"]].astype(float)\n",
    "\n",
    "\n",
    "CF2w = data_frame[(data_frame[\"Gender\"] == \"Female\") & (data_frame[\"Race\"] == \"White\")& \n",
    "           (data_frame[\"Notes\"] != \"Total\")&\n",
    "                 (data_frame[\"Year\"] != 2020.0)][[\"Year\", \"Crude Rate\"]].astype(float) \n",
    "CM2w = data_frame[(data_frame[\"Gender\"] == \"Male\") & (data_frame[\"Race\"] == \"White\")& \n",
    "           (data_frame[\"Notes\"] != \"Total\")&\n",
    "                (data_frame[\"Year\"] != 2020.0)][[\"Year\", \"Crude Rate\"]].astype(float)\n",
    "CFw = data_frame[(data_frame[\"Gender\"] == \"Female\") & (data_frame[\"Race\"] == \"White\")& \n",
    "           (data_frame[\"Notes\"] != \"Total\")][[\"Year\", \"Crude Rate\"]].astype(float)\n",
    "CMw = data_frame[(data_frame[\"Gender\"] == \"Male\") & (data_frame[\"Race\"] == \"White\")& \n",
    "           (data_frame[\"Notes\"] != \"Total\")][[\"Year\", \"Crude Rate\"]].astype(float)\n",
    "CF2w_covid = data_frame[(data_frame[\"Gender\"] == \"Female\") & (data_frame[\"Race\"] == \"White\")& \n",
    "           (data_frame[\"Year\"] == 2020.0)][[\"Year\", \"Crude Rate\"]].astype(float)\n",
    "CM2w_covid = data_frame[(data_frame[\"Gender\"] == \"Male\") & (data_frame[\"Race\"] == \"White\")& \n",
    "                (data_frame[\"Year\"] == 2020.0)][[\"Year\", \"Crude Rate\"]].astype(float)\n",
    "\n",
    "\n",
    "CF2a = data_frame[(data_frame[\"Gender\"] == \"Female\") & (data_frame[\"Race\"] == \"Asian or Pacific Islander\")& \n",
    "           (data_frame[\"Notes\"] != \"Total\") &\n",
    "                 (data_frame[\"Year\"] != 2020.0)][[\"Year\", \"Crude Rate\"]].astype(float) \n",
    "CM2a = data_frame[(data_frame[\"Gender\"] == \"Male\") & (data_frame[\"Race\"] == \"Asian or Pacific Islander\")& \n",
    "           (data_frame[\"Notes\"] != \"Total\") &\n",
    "                (data_frame[\"Year\"] != 2020.0)][[\"Year\", \"Crude Rate\"]].astype(float)\n",
    "CFa = data_frame[(data_frame[\"Gender\"] == \"Female\") & (data_frame[\"Race\"] == \"Asian or Pacific Islander\")& \n",
    "           (data_frame[\"Notes\"] != \"Total\")][[\"Year\", \"Crude Rate\"]].astype(float)\n",
    "CMa = data_frame[(data_frame[\"Gender\"] == \"Male\") & (data_frame[\"Race\"] == \"Asian or Pacific Islander\")& \n",
    "           (data_frame[\"Notes\"] != \"Total\") & (data_frame[\"Crude Rate\"] != \"NaN\")][[\"Year\", \"Crude Rate\"]].astype(float)\n",
    "CF2a_covid = data_frame[(data_frame[\"Gender\"] == \"Female\") & (data_frame[\"Race\"] == \"Asian or Pacific Islander\")& \n",
    "           (data_frame[\"Year\"] == 2020.0)][[\"Year\", \"Crude Rate\"]].astype(float)\n",
    "CM2a_covid = data_frame[(data_frame[\"Gender\"] == \"Male\") & (data_frame[\"Race\"] == \"Asian or Pacific Islander\")& \n",
    "                (data_frame[\"Year\"] == 2020.0)][[\"Year\", \"Crude Rate\"]].astype(float)\n",
    "\n",
    "CFa  = CFa.dropna()\n",
    "CF2a= CF2a.dropna()\n",
    "CMa  = CMa.dropna()\n",
    "CM2a= CM2a.dropna()"
   ]
  },
  {
   "cell_type": "code",
   "execution_count": 32,
   "metadata": {},
   "outputs": [
    {
     "data": {
      "image/png": "[encoded data removed]",
      "text/plain": [
       "<Figure size 432x288 with 1 Axes>"
      ]
     },
     "metadata": {
      "needs_background": "light"
     },
     "output_type": "display_data"
    }
   ],
   "source": [
    "plt.figure()\n",
    "xr=CM[\"Year\"]\n",
    "yr=CM[\"Crude Rate\"].div(CF[\"Crude Rate\"].values)\n",
    "plt.plot(xr, yr, color=\"red\")\n",
    "plt.scatter(xr, yr, color='red')\n",
    "\n",
    "xrb=CMb[\"Year\"]\n",
    "yrb=CMb[\"Crude Rate\"].div(CFb[\"Crude Rate\"].values)\n",
    "plt.plot(xrb, yrb, color=\"black\")\n",
    "plt.scatter(xrb, yrb, color=\"black\")\n",
    "\n",
    "xrw=CMw[\"Year\"]\n",
    "yrw=CMw[\"Crude Rate\"].div(CFw[\"Crude Rate\"].values)\n",
    "plt.plot(xrw, yrw, color=\"orange\")\n",
    "plt.scatter(xrw, yrw, color=\"orange\")\n",
    "\n",
    "xra=CMa[\"Year\"]\n",
    "yra=CMa[\"Crude Rate\"].div(CFa[\"Crude Rate\"].values)\n",
    "plt.plot(xra, yra, color=\"tab:green\")\n",
    "plt.scatter(xra, yra, color=\"tab:green\")\n",
    "plt.scatter(2020.0, 3.6/1.0, color=\"tab:green\")\n",
    "\n",
    "plt.suptitle('T43.6 male-to-female ratio', fontsize=15)\n",
    "plt.yticks(np.arange(1.0, 5.1, 1.0))\n",
    "plt.yticks(fontsize=12, rotation=0)\n",
    "plt.xticks(fontsize=12, rotation=0)\n",
    "plt.xlabel(\"year\", fontsize=14)\n",
    "plt.ylabel(\"ratio\", fontsize=14)\n",
    "\n",
    "plt.legend([\"Nationwide\", \"Black\", \"White\", \"Asian\"], frameon=False, fontsize=14, loc=\"lower right\")\n",
    "\n",
    "plt.savefig('T43.6_Ratio.svg')"
   ]
  },
  {
   "cell_type": "code",
   "execution_count": null,
   "metadata": {},
   "outputs": [],
   "source": []
  },
  {
   "cell_type": "code",
   "execution_count": null,
   "metadata": {},
   "outputs": [],
   "source": []
  }
 ],
 "metadata": {
  "kernelspec": {
   "display_name": "Python 3",
   "language": "python",
   "name": "python3"
  },
  "language_info": {
   "codemirror_mode": {
    "name": "ipython",
    "version": 3
   },
   "file_extension": ".py",
   "mimetype": "text/x-python",
   "name": "python",
   "nbconvert_exporter": "python",
   "pygments_lexer": "ipython3",
   "version": "3.8.5"
  }
 },
 "nbformat": 4,
 "nbformat_minor": 5
}
